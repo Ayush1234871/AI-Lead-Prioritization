
{
 "cells": [
  {
   "cell_type": "markdown",
   "metadata": {},
   "source": [
    "# AI-Enhanced Lead Prioritization\n",
    "This notebook demonstrates an AI-based lead scoring feature. We simulate a small B2B leads dataset and use a logistic regression model to predict which leads are most likely to convert."
   ]
  },
  {
   "cell_type": "code",
   "execution_count": null,
   "metadata": {},
   "outputs": [],
   "source": [
    "import pandas as pd\n",
    "from sklearn.linear_model import LogisticRegression\n",
    "from sklearn.preprocessing import OneHotEncoder\n",
    "from sklearn.compose import ColumnTransformer\n",
    "import numpy as np\n",
    "\n",
    "data = [\n",
    "    {'Company': 'AlphaTech', 'Industry': 'Technology', 'CompanySize': 'Large', 'NumEmployees': 1000,\n",
    "     'AnnualRevenue': 500.0, 'WebsiteVisits': 1000, 'EmailOpens': 300, 'Qualified': 1},\n",
    "    {'Company': 'BetaFinance', 'Industry': 'Finance', 'CompanySize': 'Medium', 'NumEmployees': 200,\n",
    "     'AnnualRevenue': 150.0, 'WebsiteVisits': 400, 'EmailOpens': 80, 'Qualified': 1},\n",
    "    {'Company': 'GammaHealth', 'Industry': 'Healthcare', 'CompanySize': 'Large', 'NumEmployees': 1200,\n",
    "     'AnnualRevenue': 550.0, 'WebsiteVisits': 800, 'EmailOpens': 200, 'Qualified': 1},\n",
    "    {'Company': 'DeltaTech', 'Industry': 'Technology', 'CompanySize': 'Small', 'NumEmployees': 50,\n",
    "     'AnnualRevenue': 20.0,  'WebsiteVisits': 100, 'EmailOpens': 20, 'Qualified': 0},\n",
    "    {'Company': 'EpsilonFinance', 'Industry': 'Finance', 'CompanySize': 'Small', 'NumEmployees': 30,\n",
    "     'AnnualRevenue': 5.0,   'WebsiteVisits': 50,  'EmailOpens': 5,  'Qualified': 0}\n",
    "]\n",
    "df = pd.DataFrame(data)\n",
    "X = df[['Industry','CompanySize','NumEmployees','AnnualRevenue','WebsiteVisits','EmailOpens']]\n",
    "y = df['Qualified']\n",
    "ct = ColumnTransformer([('ohe', OneHotEncoder(), ['Industry','CompanySize'])], remainder='passthrough')\n",
    "X_transformed = ct.fit_transform(X)\n",
    "model = LogisticRegression()\n",
    "model.fit(X_transformed, y)\n",
    "probs = model.predict_proba(X_transformed)[:,1]\n",
    "df['Score'] = np.round(probs, 3)\n",
    "df_sorted = df.sort_values('Score', ascending=False)\n",
    "df_sorted[['Company','Score','Qualified']]"
   ]
  }
 ],
 "metadata": {
  "kernelspec": {
   "display_name": "Python 3",
   "language": "python",
   "name": "python3"
  },
  "language_info": {
   "name": "python",
   "version": "3.8"
  }
 },
 "nbformat": 4,
 "nbformat_minor": 2
}
